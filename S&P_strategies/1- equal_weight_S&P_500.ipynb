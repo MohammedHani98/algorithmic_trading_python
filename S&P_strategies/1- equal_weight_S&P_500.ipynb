{
 "cells": [
  {
   "cell_type": "markdown",
   "id": "99956acb",
   "metadata": {},
   "source": [
    "## Importing required libraries"
   ]
  },
  {
   "cell_type": "code",
   "execution_count": 1,
   "id": "13df96b6",
   "metadata": {},
   "outputs": [],
   "source": [
    "import numpy as np\n",
    "import pandas as pd\n",
    "import requests\n",
    "import xlsxwriter\n",
    "import math"
   ]
  },
  {
   "cell_type": "markdown",
   "id": "024d9c47",
   "metadata": {},
   "source": [
    "## Importing our list of stocks"
   ]
  },
  {
   "cell_type": "code",
   "execution_count": 2,
   "id": "8f5cf892",
   "metadata": {},
   "outputs": [
    {
     "data": {
      "text/html": [
       "<div>\n",
       "<style scoped>\n",
       "    .dataframe tbody tr th:only-of-type {\n",
       "        vertical-align: middle;\n",
       "    }\n",
       "\n",
       "    .dataframe tbody tr th {\n",
       "        vertical-align: top;\n",
       "    }\n",
       "\n",
       "    .dataframe thead th {\n",
       "        text-align: right;\n",
       "    }\n",
       "</style>\n",
       "<table border=\"1\" class=\"dataframe\">\n",
       "  <thead>\n",
       "    <tr style=\"text-align: right;\">\n",
       "      <th></th>\n",
       "      <th>Ticker</th>\n",
       "    </tr>\n",
       "  </thead>\n",
       "  <tbody>\n",
       "    <tr>\n",
       "      <th>0</th>\n",
       "      <td>A</td>\n",
       "    </tr>\n",
       "    <tr>\n",
       "      <th>1</th>\n",
       "      <td>AAL</td>\n",
       "    </tr>\n",
       "  </tbody>\n",
       "</table>\n",
       "</div>"
      ],
      "text/plain": [
       "  Ticker\n",
       "0      A\n",
       "1    AAL"
      ]
     },
     "execution_count": 2,
     "metadata": {},
     "output_type": "execute_result"
    }
   ],
   "source": [
    "stocks = pd.read_csv('sp_500_stocks.csv')\n",
    "stocks.head(2)"
   ]
  },
  {
   "cell_type": "markdown",
   "id": "79c9f051",
   "metadata": {},
   "source": [
    "## Acquiring an API Token"
   ]
  },
  {
   "cell_type": "code",
   "execution_count": 3,
   "id": "bbf66c68",
   "metadata": {},
   "outputs": [],
   "source": [
    "from secrets import IEX_CLOUD_API_TOKEN"
   ]
  },
  {
   "cell_type": "markdown",
   "id": "5368060b",
   "metadata": {},
   "source": [
    "## Making our first API call"
   ]
  },
  {
   "cell_type": "markdown",
   "id": "caf78304",
   "metadata": {},
   "source": [
    " We need the following information from the API\n",
    "-  Market capitalization for each stock\n",
    "- Price of each stock"
   ]
  },
  {
   "cell_type": "code",
   "execution_count": 4,
   "id": "416fa155",
   "metadata": {},
   "outputs": [
    {
     "name": "stdout",
     "output_type": "stream",
     "text": [
      "{'avgTotalVolume': 98930967, 'calculationPrice': 'close', 'change': 1.41, 'changePercent': 0.00844, 'close': 173.93, 'closeSource': 'iloiffca', 'closeTime': 1685985975474, 'companyName': 'Apple Inc', 'currency': 'USD', 'delayedPrice': 174.412, 'delayedPriceTime': 1649556015615, 'extendedChange': 0.49, 'extendedChangePercent': 0.00286, 'extendedPrice': 178.98, 'extendedPriceTime': 1663889611760, 'high': 174.47, 'highSource': ' e nmieae1iupeddtyrlc5 ', 'highTime': 1702855294578, 'iexAskPrice': 0, 'iexAskSize': 0, 'iexBidPrice': 0, 'iexBidSize': 0, 'iexClose': 178.04, 'iexCloseTime': 1707230910544, 'iexLastUpdated': 1709740995717, 'iexMarketPercent': 0.01762690822165304, 'iexOpen': 168.39, 'iexOpenTime': 1718254369020, 'iexRealtimePrice': 172.14, 'iexRealtimeSize': 155, 'iexVolume': 1696026, 'lastTradeTime': 1691665770450, 'latestPrice': 178.09, 'latestSource': 'Close', 'latestTime': 'March 23, 2022', 'latestUpdate': 1727565786027, 'latestVolume': 102748663, 'low': 169.88, 'lowSource': ' 5uycpatimid ednr1eele ', 'lowTime': 1692082558213, 'marketCap': 2904586016910, 'oddLotDelayedPrice': 178.25, 'oddLotDelayedPriceTime': 1695298252733, 'open': 170.84, 'openTime': 1666471853030, 'openSource': 'cafoifil', 'peRatio': 29.04, 'previousClose': 170.78, 'previousVolume': 82496018, 'primaryExchange': 'SADQAN', 'symbol': 'AAPL', 'volume': 102643156, 'week52High': 191.73, 'week52Low': 119.98, 'ytdChange': -0.04108930881176343, 'isUSMarketOpen': False}\n"
     ]
    }
   ],
   "source": [
    "symbol = 'AAPL'\n",
    "api_url = f'https://sandbox.iexapis.com/stable/stock/{symbol}/quote/?token={IEX_CLOUD_API_TOKEN}'\n",
    "data = requests.get(api_url).json()\n",
    "print(data)"
   ]
  },
  {
   "cell_type": "markdown",
   "id": "ebe206bd",
   "metadata": {},
   "source": [
    "## Parsing our API call"
   ]
  },
  {
   "cell_type": "markdown",
   "id": "bd7dc59f",
   "metadata": {},
   "source": [
    "The API call that we executed in the last code block contains all the information required to build equal weight S&P 500 strategy\n",
    "\n",
    "\n",
    "With that said, the data is not in a proper format yet and we need to parse it first."
   ]
  },
  {
   "cell_type": "code",
   "execution_count": 17,
   "id": "31ea93db",
   "metadata": {},
   "outputs": [
    {
     "name": "stdout",
     "output_type": "stream",
     "text": [
      "172.67\n",
      "The market capitalization for Apple is:2.84 trillion\n"
     ]
    }
   ],
   "source": [
    "price = data['latestPrice']\n",
    "market_cap = data['marketCap']\n",
    "print(price)\n",
    "print('The market capitalization for Apple is:{} trillion'.format(round(market_cap/1000000000000, 2)))"
   ]
  },
  {
   "cell_type": "markdown",
   "id": "ec1912f5",
   "metadata": {},
   "source": [
    "## Adding all our stocks to a pandas dataframe"
   ]
  },
  {
   "cell_type": "code",
   "execution_count": 18,
   "id": "a82b1596",
   "metadata": {},
   "outputs": [
    {
     "data": {
      "text/html": [
       "<div>\n",
       "<style scoped>\n",
       "    .dataframe tbody tr th:only-of-type {\n",
       "        vertical-align: middle;\n",
       "    }\n",
       "\n",
       "    .dataframe tbody tr th {\n",
       "        vertical-align: top;\n",
       "    }\n",
       "\n",
       "    .dataframe thead th {\n",
       "        text-align: right;\n",
       "    }\n",
       "</style>\n",
       "<table border=\"1\" class=\"dataframe\">\n",
       "  <thead>\n",
       "    <tr style=\"text-align: right;\">\n",
       "      <th></th>\n",
       "      <th>Ticker</th>\n",
       "      <th>Stock_price</th>\n",
       "      <th>Market_capitalization</th>\n",
       "      <th>Number_of_shares_to_buy</th>\n",
       "    </tr>\n",
       "  </thead>\n",
       "  <tbody>\n",
       "    <tr>\n",
       "      <th>0</th>\n",
       "      <td>AAPL</td>\n",
       "      <td>172.67</td>\n",
       "      <td>2836388762325</td>\n",
       "      <td>N/A</td>\n",
       "    </tr>\n",
       "  </tbody>\n",
       "</table>\n",
       "</div>"
      ],
      "text/plain": [
       "  Ticker  Stock_price  Market_capitalization Number_of_shares_to_buy\n",
       "0   AAPL       172.67          2836388762325                     N/A"
      ]
     },
     "execution_count": 18,
     "metadata": {},
     "output_type": "execute_result"
    }
   ],
   "source": [
    "my_columns = ['Ticker', 'Stock_price', 'Market_capitalization', 'Number_of_shares_to_buy']\n",
    "final_frame = pd.DataFrame([[symbol, price, market_cap, 'N/A']],columns = my_columns)\n",
    "final_frame"
   ]
  },
  {
   "cell_type": "code",
   "execution_count": 13,
   "id": "f4fb4811",
   "metadata": {},
   "outputs": [],
   "source": [
    "# final_frame.append(pd.Series([symbol, price, market_cap, 'N/A'], index = my_columns)], ignore_index = True)"
   ]
  },
  {
   "cell_type": "markdown",
   "id": "5810f7d8",
   "metadata": {},
   "source": [
    "## Looping through the tickers in our list of stocks"
   ]
  },
  {
   "cell_type": "code",
   "execution_count": 14,
   "id": "07096ab6",
   "metadata": {},
   "outputs": [],
   "source": [
    "# final_frame = pd.DataFrame(columns = my_columns)\n",
    "# for symbol in stocks['Ticker']:\n",
    "#     api_url = f'https://sandbox.iexapis.com/stable/stock/{symbol}/quote/?token={IEX_CLOUD_API_TOKEN}'\n",
    "#     data = requests.get(api_url).json()\n",
    "#     final_frame = final_frame.append(\n",
    "#                                         pd.Series([symbol, \n",
    "#                                                    data['latestPrice'], \n",
    "#                                                    data['marketCap'], \n",
    "#                                                    'N/A'], \n",
    "#                                                   index = my_columns), \n",
    "#                                         ignore_index = True)\n",
    "\n",
    "# tickers = []\n",
    "# for symbol in stocks['Ticker']:\n",
    "#     try:\n",
    "#         api_url = f'https://sandbox.iexapis.com/stable/stock/{symbol}/quote?token={IEX_CLOUD_API_TOKEN}'\n",
    "#         data = requests.get(api_url).json()\n",
    "#         print(data)\n",
    "#         d = dict(zip(my_columns, [symbol, data['latestPrice'], data['marketCap'], 'N/A']))\n",
    "#         tickers.append(d)\n",
    "#     except:\n",
    "#         continue\n",
    "# final_frame = pd.DataFrame(tickers)\n"
   ]
  },
  {
   "cell_type": "code",
   "execution_count": 7,
   "id": "32aef452",
   "metadata": {},
   "outputs": [
    {
     "data": {
      "text/html": [
       "<div>\n",
       "<style scoped>\n",
       "    .dataframe tbody tr th:only-of-type {\n",
       "        vertical-align: middle;\n",
       "    }\n",
       "\n",
       "    .dataframe tbody tr th {\n",
       "        vertical-align: top;\n",
       "    }\n",
       "\n",
       "    .dataframe thead th {\n",
       "        text-align: right;\n",
       "    }\n",
       "</style>\n",
       "<table border=\"1\" class=\"dataframe\">\n",
       "  <thead>\n",
       "    <tr style=\"text-align: right;\">\n",
       "      <th></th>\n",
       "      <th>Ticker</th>\n",
       "      <th>Stock_price</th>\n",
       "      <th>Market_capitalization</th>\n",
       "      <th>Number_of_shares_to_buy</th>\n",
       "    </tr>\n",
       "  </thead>\n",
       "  <tbody>\n",
       "    <tr>\n",
       "      <th>0</th>\n",
       "      <td>AAPL</td>\n",
       "      <td>169.71</td>\n",
       "      <td>2765086225116</td>\n",
       "      <td>N/A</td>\n",
       "    </tr>\n",
       "  </tbody>\n",
       "</table>\n",
       "</div>"
      ],
      "text/plain": [
       "  Ticker  Stock_price  Market_capitalization Number_of_shares_to_buy\n",
       "0   AAPL       169.71          2765086225116                     N/A"
      ]
     },
     "execution_count": 7,
     "metadata": {},
     "output_type": "execute_result"
    }
   ],
   "source": [
    "final_frame"
   ]
  },
  {
   "cell_type": "markdown",
   "id": "5590e5c0",
   "metadata": {},
   "source": [
    "## Using bach API calls to improve performance (instead of the above method)\n",
    "\n",
    "Batch API calls are one of the easiest ways to improve the performance of your code.\n",
    "\n",
    "This is because HTTP requests are typically one of the slowest components of a script.\n",
    "\n",
    "Also, API providers will often give you discounted rates for using batch API calls since they are easier for the API provider to respond to.\n",
    "\n",
    "IEX Cloud limits their batch API calls to 100 tickers per request. \n",
    "\n",
    "Still, this reduces the number of API calls we'll make in this section from 500 to 5 - huge improvement! In this section, we'll split our list of stocks into groups of 100 and then make a batch API call for each group."
   ]
  },
  {
   "cell_type": "code",
   "execution_count": 19,
   "id": "ebea5015",
   "metadata": {},
   "outputs": [],
   "source": [
    "def chunks(lst, n):\n",
    "    \"\"\"Yield successive n-sized chunks from lst.\"\"\"\n",
    "    for i in range(0, len(lst), n):\n",
    "        yield lst[i:i + n]"
   ]
  },
  {
   "cell_type": "code",
   "execution_count": 20,
   "id": "66152ca8",
   "metadata": {},
   "outputs": [
    {
     "data": {
      "text/html": [
       "<div>\n",
       "<style scoped>\n",
       "    .dataframe tbody tr th:only-of-type {\n",
       "        vertical-align: middle;\n",
       "    }\n",
       "\n",
       "    .dataframe tbody tr th {\n",
       "        vertical-align: top;\n",
       "    }\n",
       "\n",
       "    .dataframe thead th {\n",
       "        text-align: right;\n",
       "    }\n",
       "</style>\n",
       "<table border=\"1\" class=\"dataframe\">\n",
       "  <thead>\n",
       "    <tr style=\"text-align: right;\">\n",
       "      <th></th>\n",
       "      <th>Ticker</th>\n",
       "      <th>Stock_price</th>\n",
       "      <th>Market_capitalization</th>\n",
       "      <th>Number_of_shares_to_buy</th>\n",
       "    </tr>\n",
       "  </thead>\n",
       "  <tbody>\n",
       "    <tr>\n",
       "      <th>0</th>\n",
       "      <td>A</td>\n",
       "      <td>145.46</td>\n",
       "      <td>42604369020</td>\n",
       "      <td>N/A</td>\n",
       "    </tr>\n",
       "    <tr>\n",
       "      <th>1</th>\n",
       "      <td>AAL</td>\n",
       "      <td>16.91</td>\n",
       "      <td>10816406603</td>\n",
       "      <td>N/A</td>\n",
       "    </tr>\n",
       "    <tr>\n",
       "      <th>2</th>\n",
       "      <td>AAP</td>\n",
       "      <td>212.30</td>\n",
       "      <td>13025319937</td>\n",
       "      <td>N/A</td>\n",
       "    </tr>\n",
       "    <tr>\n",
       "      <th>3</th>\n",
       "      <td>AAPL</td>\n",
       "      <td>176.07</td>\n",
       "      <td>2851557417222</td>\n",
       "      <td>N/A</td>\n",
       "    </tr>\n",
       "    <tr>\n",
       "      <th>4</th>\n",
       "      <td>ABBV</td>\n",
       "      <td>167.44</td>\n",
       "      <td>294423482909</td>\n",
       "      <td>N/A</td>\n",
       "    </tr>\n",
       "    <tr>\n",
       "      <th>...</th>\n",
       "      <td>...</td>\n",
       "      <td>...</td>\n",
       "      <td>...</td>\n",
       "      <td>...</td>\n",
       "    </tr>\n",
       "    <tr>\n",
       "      <th>497</th>\n",
       "      <td>YUM</td>\n",
       "      <td>124.54</td>\n",
       "      <td>35395438396</td>\n",
       "      <td>N/A</td>\n",
       "    </tr>\n",
       "    <tr>\n",
       "      <th>498</th>\n",
       "      <td>ZBH</td>\n",
       "      <td>122.73</td>\n",
       "      <td>26004792920</td>\n",
       "      <td>N/A</td>\n",
       "    </tr>\n",
       "    <tr>\n",
       "      <th>499</th>\n",
       "      <td>ZBRA</td>\n",
       "      <td>434.00</td>\n",
       "      <td>24041847904</td>\n",
       "      <td>N/A</td>\n",
       "    </tr>\n",
       "    <tr>\n",
       "      <th>500</th>\n",
       "      <td>ZION</td>\n",
       "      <td>72.68</td>\n",
       "      <td>10827701393</td>\n",
       "      <td>N/A</td>\n",
       "    </tr>\n",
       "    <tr>\n",
       "      <th>501</th>\n",
       "      <td>ZTS</td>\n",
       "      <td>202.91</td>\n",
       "      <td>95364988074</td>\n",
       "      <td>N/A</td>\n",
       "    </tr>\n",
       "  </tbody>\n",
       "</table>\n",
       "<p>502 rows × 4 columns</p>\n",
       "</div>"
      ],
      "text/plain": [
       "    Ticker  Stock_price  Market_capitalization Number_of_shares_to_buy\n",
       "0        A       145.46            42604369020                     N/A\n",
       "1      AAL        16.91            10816406603                     N/A\n",
       "2      AAP       212.30            13025319937                     N/A\n",
       "3     AAPL       176.07          2851557417222                     N/A\n",
       "4     ABBV       167.44           294423482909                     N/A\n",
       "..     ...          ...                    ...                     ...\n",
       "497    YUM       124.54            35395438396                     N/A\n",
       "498    ZBH       122.73            26004792920                     N/A\n",
       "499   ZBRA       434.00            24041847904                     N/A\n",
       "500   ZION        72.68            10827701393                     N/A\n",
       "501    ZTS       202.91            95364988074                     N/A\n",
       "\n",
       "[502 rows x 4 columns]"
      ]
     },
     "execution_count": 20,
     "metadata": {},
     "output_type": "execute_result"
    }
   ],
   "source": [
    "symbol_groups = list(chunks(stocks['Ticker'], 100))\n",
    "symbol_strings = []\n",
    "tickers = []\n",
    "for i in range(0, len(symbol_groups)):\n",
    "    symbol_strings.append(','.join(symbol_groups[i]))\n",
    "#     print(symbol_strings)\n",
    "for symbol_string in symbol_strings:\n",
    "    batch_api_call_url = f'https://sandbox.iexapis.com/stable/stock/market/batch/?types=quote&symbols={symbol_string}&token={IEX_CLOUD_API_TOKEN}'\n",
    "    data = requests.get(batch_api_call_url).json()\n",
    "    for symbol in symbol_string.split(','):\n",
    "        try:\n",
    "            d = dict(zip(my_columns, [symbol,\n",
    "                                      data[symbol]['quote']['latestPrice'],\n",
    "                                      data[symbol]['quote']['marketCap'],\n",
    "                                      'N/A']))\n",
    "            tickers.append(d)\n",
    "        except:\n",
    "            continue\n",
    "\n",
    "final_dataframe = pd.DataFrame(tickers)\n",
    "final_dataframe "
   ]
  },
  {
   "cell_type": "markdown",
   "id": "25bec679",
   "metadata": {},
   "source": [
    "## Calculating the portofolio size"
   ]
  },
  {
   "cell_type": "code",
   "execution_count": 21,
   "id": "a8773234",
   "metadata": {},
   "outputs": [
    {
     "name": "stdout",
     "output_type": "stream",
     "text": [
      "Please enter the value of your portofolio: 10000000\n"
     ]
    }
   ],
   "source": [
    "portofolio_size = input('Please enter the value of your portofolio: ')\n",
    "try:\n",
    "    val = float(portofolio_size)\n",
    "except ValueError:\n",
    "    print('This is not a number! \\nPlease try again')\n",
    "    portofolio_size = input('Please enter the value of your portofolio: ')\n",
    "    val = float(portofolio_size)"
   ]
  },
  {
   "cell_type": "code",
   "execution_count": 29,
   "id": "c4e613da",
   "metadata": {},
   "outputs": [
    {
     "name": "stdout",
     "output_type": "stream",
     "text": [
      "the position size is: $19920.3187250996\n"
     ]
    },
    {
     "data": {
      "text/html": [
       "<div>\n",
       "<style scoped>\n",
       "    .dataframe tbody tr th:only-of-type {\n",
       "        vertical-align: middle;\n",
       "    }\n",
       "\n",
       "    .dataframe tbody tr th {\n",
       "        vertical-align: top;\n",
       "    }\n",
       "\n",
       "    .dataframe thead th {\n",
       "        text-align: right;\n",
       "    }\n",
       "</style>\n",
       "<table border=\"1\" class=\"dataframe\">\n",
       "  <thead>\n",
       "    <tr style=\"text-align: right;\">\n",
       "      <th></th>\n",
       "      <th>Ticker</th>\n",
       "      <th>Stock_price</th>\n",
       "      <th>Market_capitalization</th>\n",
       "      <th>Number_of_shares_to_buy</th>\n",
       "    </tr>\n",
       "  </thead>\n",
       "  <tbody>\n",
       "    <tr>\n",
       "      <th>0</th>\n",
       "      <td>A</td>\n",
       "      <td>145.46</td>\n",
       "      <td>42604369020</td>\n",
       "      <td>136</td>\n",
       "    </tr>\n",
       "    <tr>\n",
       "      <th>1</th>\n",
       "      <td>AAL</td>\n",
       "      <td>16.91</td>\n",
       "      <td>10816406603</td>\n",
       "      <td>1178</td>\n",
       "    </tr>\n",
       "    <tr>\n",
       "      <th>2</th>\n",
       "      <td>AAP</td>\n",
       "      <td>212.30</td>\n",
       "      <td>13025319937</td>\n",
       "      <td>93</td>\n",
       "    </tr>\n",
       "    <tr>\n",
       "      <th>3</th>\n",
       "      <td>AAPL</td>\n",
       "      <td>176.07</td>\n",
       "      <td>2851557417222</td>\n",
       "      <td>113</td>\n",
       "    </tr>\n",
       "    <tr>\n",
       "      <th>4</th>\n",
       "      <td>ABBV</td>\n",
       "      <td>167.44</td>\n",
       "      <td>294423482909</td>\n",
       "      <td>118</td>\n",
       "    </tr>\n",
       "    <tr>\n",
       "      <th>...</th>\n",
       "      <td>...</td>\n",
       "      <td>...</td>\n",
       "      <td>...</td>\n",
       "      <td>...</td>\n",
       "    </tr>\n",
       "    <tr>\n",
       "      <th>497</th>\n",
       "      <td>YUM</td>\n",
       "      <td>124.54</td>\n",
       "      <td>35395438396</td>\n",
       "      <td>159</td>\n",
       "    </tr>\n",
       "    <tr>\n",
       "      <th>498</th>\n",
       "      <td>ZBH</td>\n",
       "      <td>122.73</td>\n",
       "      <td>26004792920</td>\n",
       "      <td>162</td>\n",
       "    </tr>\n",
       "    <tr>\n",
       "      <th>499</th>\n",
       "      <td>ZBRA</td>\n",
       "      <td>434.00</td>\n",
       "      <td>24041847904</td>\n",
       "      <td>45</td>\n",
       "    </tr>\n",
       "    <tr>\n",
       "      <th>500</th>\n",
       "      <td>ZION</td>\n",
       "      <td>72.68</td>\n",
       "      <td>10827701393</td>\n",
       "      <td>274</td>\n",
       "    </tr>\n",
       "    <tr>\n",
       "      <th>501</th>\n",
       "      <td>ZTS</td>\n",
       "      <td>202.91</td>\n",
       "      <td>95364988074</td>\n",
       "      <td>98</td>\n",
       "    </tr>\n",
       "  </tbody>\n",
       "</table>\n",
       "<p>502 rows × 4 columns</p>\n",
       "</div>"
      ],
      "text/plain": [
       "    Ticker  Stock_price  Market_capitalization Number_of_shares_to_buy\n",
       "0        A       145.46            42604369020                     136\n",
       "1      AAL        16.91            10816406603                    1178\n",
       "2      AAP       212.30            13025319937                      93\n",
       "3     AAPL       176.07          2851557417222                     113\n",
       "4     ABBV       167.44           294423482909                     118\n",
       "..     ...          ...                    ...                     ...\n",
       "497    YUM       124.54            35395438396                     159\n",
       "498    ZBH       122.73            26004792920                     162\n",
       "499   ZBRA       434.00            24041847904                      45\n",
       "500   ZION        72.68            10827701393                     274\n",
       "501    ZTS       202.91            95364988074                      98\n",
       "\n",
       "[502 rows x 4 columns]"
      ]
     },
     "execution_count": 29,
     "metadata": {},
     "output_type": "execute_result"
    }
   ],
   "source": [
    "# position_size is a term to know the share of each stock (502) in the money that you invest \n",
    "position_size = val/len(final_dataframe.index)\n",
    "print('the position size is: ${}'.format(position_size))\n",
    "\n",
    "\n",
    "for i in range(0, len(final_dataframe.index)):\n",
    "    final_dataframe.loc[i , 'Number_of_shares_to_buy'] = math.floor(position_size/final_dataframe.loc[i, 'Stock_price'])\n",
    "\n",
    "final_dataframe\n",
    "    \n",
    "# number_of_apple_shares = position_size/500\n",
    "# print('the number of Apple share to buy are: {} share'.format(math.floor(number_of_apple_shares)))"
   ]
  },
  {
   "cell_type": "markdown",
   "id": "cd4def2e",
   "metadata": {},
   "source": [
    "## Formatting Excel outputs"
   ]
  },
  {
   "cell_type": "code",
   "execution_count": 28,
   "id": "157e94cd",
   "metadata": {},
   "outputs": [],
   "source": [
    "writer = pd.ExcelWriter('recommended_trades.xlsx', engine = 'xlsxwriter')\n",
    "final_dataframe.to_excel(writer, 'recommended_trades', index = False)"
   ]
  },
  {
   "cell_type": "markdown",
   "id": "98303096",
   "metadata": {},
   "source": [
    "## Creating the Formats We'll Need For Our .xlsx File\n",
    "\n",
    "Formats include colors, fonts, and also symbols like % and $. We'll need four main formats for our Excel document:\n",
    "\n",
    "- String format for tickers.\n",
    "- XX.XX format for stock prices.\n",
    "- XX.XXX format for market capitalization.\n",
    "- Integer format for the number of shares to purchase."
   ]
  },
  {
   "cell_type": "code",
   "execution_count": 30,
   "id": "e674df5c",
   "metadata": {},
   "outputs": [],
   "source": [
    "background_color = '#0a0a23'\n",
    "font_color = '#ffffff'\n",
    "\n",
    "string_format = writer.book.add_format(\n",
    "        {\n",
    "            'font_color': font_color,\n",
    "            'bg_color': background_color,\n",
    "            'border': 1\n",
    "        }\n",
    "    )\n",
    "\n",
    "dollar_format = writer.book.add_format(\n",
    "        {\n",
    "            'num_format':'$0.00',\n",
    "            'font_color': font_color,\n",
    "            'bg_color': background_color,\n",
    "            'border': 1\n",
    "        }\n",
    "    )\n",
    "\n",
    "integer_format = writer.book.add_format(\n",
    "        {\n",
    "            'num_format':'0',\n",
    "            'font_color': font_color,\n",
    "            'bg_color': background_color,\n",
    "            'border': 1\n",
    "        }\n",
    "    )"
   ]
  },
  {
   "cell_type": "markdown",
   "id": "34801953",
   "metadata": {},
   "source": [
    "## Applying the Formats to the Columns of Our .xlsx File\n",
    "\n",
    "We can use the `set_column` method applied to the `writer.sheets['Recommended Trades']` object to apply formats to specific columns of our spreadsheets.\n",
    "\n",
    "Here's an example:\n"
   ]
  },
  {
   "cell_type": "markdown",
   "id": "18fe40ac",
   "metadata": {},
   "source": [
    "`writer.sheets['Recommended Trades'].set_column('B:B', #This tells the method to apply the format to column B\n",
    "                     18, #This tells the method to apply a column width of 18 pixels\n",
    "                     string_format #This applies the format 'string_format' to the column`"
   ]
  },
  {
   "cell_type": "code",
   "execution_count": null,
   "id": "eb88a5e3",
   "metadata": {},
   "outputs": [],
   "source": [
    "# writer.sheets['Recommended Trades'].write('A1', 'Ticker', string_format)\n",
    "# writer.sheets['Recommended Trades'].write('B1', 'Price', string_format)\n",
    "# writer.sheets['Recommended Trades'].write('C1', 'Market Capitalization', string_format)\n",
    "# writer.sheets['Recommended Trades'].write('D1', 'Number Of Shares to Buy', string_format)\n",
    "# writer.sheets['Recommended Trades'].set_column('A:A', 20, string_format)\n",
    "# writer.sheets['Recommended Trades'].set_column('B:B', 20, dollar_format)\n",
    "# writer.sheets['Recommended Trades'].set_column('C:C', 20, dollar_format)\n",
    "# writer.sheets['Recommended Trades'].set_column('D:D', 20, integer_format)"
   ]
  },
  {
   "cell_type": "markdown",
   "id": "6c6122e3",
   "metadata": {},
   "source": [
    "This code works, but it violates the software principle of \"Don't Repeat Yourself\".\n",
    "\n",
    "Let's simplify this by putting it in 2 loops:"
   ]
  },
  {
   "cell_type": "code",
   "execution_count": 31,
   "id": "58357d2c",
   "metadata": {},
   "outputs": [],
   "source": [
    "column_formats = { \n",
    "                    'A': ['Ticker', string_format],\n",
    "                    'B': ['Price', dollar_format],\n",
    "                    'C': ['Market Capitalization', dollar_format],\n",
    "                    'D': ['Number of Shares to Buy', integer_format]\n",
    "                    }\n",
    "\n",
    "for column in column_formats.keys():\n",
    "    writer.sheets['recommended_trades'].set_column(f'{column}:{column}', 20, column_formats[column][1])\n",
    "    writer.sheets['recommended_trades'].write(f'{column}1', column_formats[column][0], string_format)"
   ]
  },
  {
   "cell_type": "markdown",
   "id": "7dfd1157",
   "metadata": {},
   "source": [
    "## Saving Our Excel Output\n",
    "Saving our Excel file is very easy:"
   ]
  },
  {
   "cell_type": "code",
   "execution_count": 32,
   "id": "1bee32dd",
   "metadata": {},
   "outputs": [],
   "source": [
    "writer.save()"
   ]
  }
 ],
 "metadata": {
  "kernelspec": {
   "display_name": "Python 3 (ipykernel)",
   "language": "python",
   "name": "python3"
  },
  "language_info": {
   "codemirror_mode": {
    "name": "ipython",
    "version": 3
   },
   "file_extension": ".py",
   "mimetype": "text/x-python",
   "name": "python",
   "nbconvert_exporter": "python",
   "pygments_lexer": "ipython3",
   "version": "3.8.12"
  }
 },
 "nbformat": 4,
 "nbformat_minor": 5
}
